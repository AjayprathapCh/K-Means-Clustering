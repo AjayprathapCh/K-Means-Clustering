{
 "cells": [
  {
   "cell_type": "markdown",
   "metadata": {},
   "source": [
    "# K-means Clustering\n",
    "\n",
    "The data set contains details of football players. The player Song is injured and coach wants to have appropriate replacement of Song. We need to find appropriate segment from which the coach can replace the injured player.\n",
    "\n",
    "**The aim is to group similar type of players together using K-means clustering algorithm, find out to which gorup the player 'song' belongs to and find out the best possible replacement to him**. "
   ]
  },
  {
   "cell_type": "code",
   "execution_count": 1,
   "metadata": {},
   "outputs": [],
   "source": [
    "#Load the required libraries\n",
    "\n",
    "import os\n",
    "import pandas as pd\n",
    "import numpy as np\n",
    "import matplotlib.pyplot as plt\n",
    "%matplotlib inline"
   ]
  },
  {
   "cell_type": "code",
   "execution_count": 2,
   "metadata": {},
   "outputs": [],
   "source": [
    "data_dir='C:\\\\Users\\\\Ajay\\\\Documents\\\\Clustering'"
   ]
  },
  {
   "cell_type": "code",
   "execution_count": 3,
   "metadata": {},
   "outputs": [],
   "source": [
    "os.chdir(data_dir)"
   ]
  },
  {
   "cell_type": "code",
   "execution_count": 4,
   "metadata": {},
   "outputs": [],
   "source": [
    "data=pd.read_csv(\"SongFootball.csv\",encoding='latin-1')"
   ]
  },
  {
   "cell_type": "markdown",
   "metadata": {},
   "source": [
    "**Understanding and Preparing the data**"
   ]
  },
  {
   "cell_type": "code",
   "execution_count": 5,
   "metadata": {},
   "outputs": [
    {
     "name": "stdout",
     "output_type": "stream",
     "text": [
      "(480, 10)\n",
      "   Player Id  Tackles  wontackles  duels  wonduels  passes  wonpasses  \\\n",
      "0          3       28    0.642857    170  0.394118    1108   0.753610   \n",
      "1        363       39    0.641026    107  0.532710    1137   0.930519   \n",
      "2        973       32    0.656250    104  0.625000     297   0.713805   \n",
      "3       1059       28    0.785714    135  0.577778     424   0.738208   \n",
      "4       1131       12    0.916667     58  0.620690     232   0.780172   \n",
      "\n",
      "   interception First_Name Last_Name  \n",
      "0            30      Giggs      Ryan  \n",
      "1            24    Scholes      Paul  \n",
      "2            23   Woodgate  Jonathan  \n",
      "3            32   Gabbidon    Daniel  \n",
      "4            14    Bramble     Titus  \n"
     ]
    }
   ],
   "source": [
    "print(data.shape)\n",
    "print(data.head())"
   ]
  },
  {
   "cell_type": "markdown",
   "metadata": {},
   "source": [
    "\n",
    "There are 480 players in the data set and 10 attributes describing each player\n"
   ]
  },
  {
   "cell_type": "code",
   "execution_count": 6,
   "metadata": {},
   "outputs": [
    {
     "data": {
      "text/plain": [
       "Index(['Player Id', 'Tackles', 'wontackles', 'duels', 'wonduels', 'passes',\n",
       "       'wonpasses', 'interception', 'First_Name', 'Last_Name'],\n",
       "      dtype='object')"
      ]
     },
     "execution_count": 6,
     "metadata": {},
     "output_type": "execute_result"
    }
   ],
   "source": [
    "data.columns"
   ]
  },
  {
   "cell_type": "markdown",
   "metadata": {},
   "source": [
    "Lets see details of the player `Song`"
   ]
  },
  {
   "cell_type": "code",
   "execution_count": 7,
   "metadata": {},
   "outputs": [
    {
     "data": {
      "text/html": [
       "<div>\n",
       "<style scoped>\n",
       "    .dataframe tbody tr th:only-of-type {\n",
       "        vertical-align: middle;\n",
       "    }\n",
       "\n",
       "    .dataframe tbody tr th {\n",
       "        vertical-align: top;\n",
       "    }\n",
       "\n",
       "    .dataframe thead th {\n",
       "        text-align: right;\n",
       "    }\n",
       "</style>\n",
       "<table border=\"1\" class=\"dataframe\">\n",
       "  <thead>\n",
       "    <tr style=\"text-align: right;\">\n",
       "      <th></th>\n",
       "      <th>Player Id</th>\n",
       "      <th>Tackles</th>\n",
       "      <th>wontackles</th>\n",
       "      <th>duels</th>\n",
       "      <th>wonduels</th>\n",
       "      <th>passes</th>\n",
       "      <th>wonpasses</th>\n",
       "      <th>interception</th>\n",
       "      <th>First_Name</th>\n",
       "      <th>Last_Name</th>\n",
       "    </tr>\n",
       "  </thead>\n",
       "  <tbody>\n",
       "    <tr>\n",
       "      <td>263</td>\n",
       "      <td>21091</td>\n",
       "      <td>100</td>\n",
       "      <td>0.73</td>\n",
       "      <td>396</td>\n",
       "      <td>0.474747</td>\n",
       "      <td>2261</td>\n",
       "      <td>0.839894</td>\n",
       "      <td>66</td>\n",
       "      <td>Song</td>\n",
       "      <td>Alexandre</td>\n",
       "    </tr>\n",
       "  </tbody>\n",
       "</table>\n",
       "</div>"
      ],
      "text/plain": [
       "     Player Id  Tackles  wontackles  duels  wonduels  passes  wonpasses  \\\n",
       "263      21091      100        0.73    396  0.474747    2261   0.839894   \n",
       "\n",
       "     interception First_Name  Last_Name  \n",
       "263            66       Song  Alexandre  "
      ]
     },
     "execution_count": 7,
     "metadata": {},
     "output_type": "execute_result"
    }
   ],
   "source": [
    "data[data['First_Name']==\"Song\"]"
   ]
  },
  {
   "cell_type": "markdown",
   "metadata": {},
   "source": [
    "\n",
    "We can remove columns 1,9 and 10 (Player Id,First_Name,Last_Name), they are irrelevant for the model\n"
   ]
  },
  {
   "cell_type": "code",
   "execution_count": 14,
   "metadata": {},
   "outputs": [
    {
     "data": {
      "text/html": [
       "<div>\n",
       "<style scoped>\n",
       "    .dataframe tbody tr th:only-of-type {\n",
       "        vertical-align: middle;\n",
       "    }\n",
       "\n",
       "    .dataframe tbody tr th {\n",
       "        vertical-align: top;\n",
       "    }\n",
       "\n",
       "    .dataframe thead th {\n",
       "        text-align: right;\n",
       "    }\n",
       "</style>\n",
       "<table border=\"1\" class=\"dataframe\">\n",
       "  <thead>\n",
       "    <tr style=\"text-align: right;\">\n",
       "      <th></th>\n",
       "      <th>Player Id</th>\n",
       "      <th>Tackles</th>\n",
       "      <th>wontackles</th>\n",
       "      <th>duels</th>\n",
       "      <th>wonduels</th>\n",
       "      <th>passes</th>\n",
       "      <th>wonpasses</th>\n",
       "      <th>interception</th>\n",
       "      <th>First_Name</th>\n",
       "      <th>Last_Name</th>\n",
       "    </tr>\n",
       "  </thead>\n",
       "  <tbody>\n",
       "    <tr>\n",
       "      <td>0</td>\n",
       "      <td>3</td>\n",
       "      <td>28</td>\n",
       "      <td>0.642857</td>\n",
       "      <td>170</td>\n",
       "      <td>0.394118</td>\n",
       "      <td>1108</td>\n",
       "      <td>0.753610</td>\n",
       "      <td>30</td>\n",
       "      <td>Giggs</td>\n",
       "      <td>Ryan</td>\n",
       "    </tr>\n",
       "    <tr>\n",
       "      <td>1</td>\n",
       "      <td>363</td>\n",
       "      <td>39</td>\n",
       "      <td>0.641026</td>\n",
       "      <td>107</td>\n",
       "      <td>0.532710</td>\n",
       "      <td>1137</td>\n",
       "      <td>0.930519</td>\n",
       "      <td>24</td>\n",
       "      <td>Scholes</td>\n",
       "      <td>Paul</td>\n",
       "    </tr>\n",
       "    <tr>\n",
       "      <td>2</td>\n",
       "      <td>973</td>\n",
       "      <td>32</td>\n",
       "      <td>0.656250</td>\n",
       "      <td>104</td>\n",
       "      <td>0.625000</td>\n",
       "      <td>297</td>\n",
       "      <td>0.713805</td>\n",
       "      <td>23</td>\n",
       "      <td>Woodgate</td>\n",
       "      <td>Jonathan</td>\n",
       "    </tr>\n",
       "    <tr>\n",
       "      <td>3</td>\n",
       "      <td>1059</td>\n",
       "      <td>28</td>\n",
       "      <td>0.785714</td>\n",
       "      <td>135</td>\n",
       "      <td>0.577778</td>\n",
       "      <td>424</td>\n",
       "      <td>0.738208</td>\n",
       "      <td>32</td>\n",
       "      <td>Gabbidon</td>\n",
       "      <td>Daniel</td>\n",
       "    </tr>\n",
       "    <tr>\n",
       "      <td>4</td>\n",
       "      <td>1131</td>\n",
       "      <td>12</td>\n",
       "      <td>0.916667</td>\n",
       "      <td>58</td>\n",
       "      <td>0.620690</td>\n",
       "      <td>232</td>\n",
       "      <td>0.780172</td>\n",
       "      <td>14</td>\n",
       "      <td>Bramble</td>\n",
       "      <td>Titus</td>\n",
       "    </tr>\n",
       "  </tbody>\n",
       "</table>\n",
       "</div>"
      ],
      "text/plain": [
       "   Player Id  Tackles  wontackles  duels  wonduels  passes  wonpasses  \\\n",
       "0          3       28    0.642857    170  0.394118    1108   0.753610   \n",
       "1        363       39    0.641026    107  0.532710    1137   0.930519   \n",
       "2        973       32    0.656250    104  0.625000     297   0.713805   \n",
       "3       1059       28    0.785714    135  0.577778     424   0.738208   \n",
       "4       1131       12    0.916667     58  0.620690     232   0.780172   \n",
       "\n",
       "   interception First_Name Last_Name  \n",
       "0            30      Giggs      Ryan  \n",
       "1            24    Scholes      Paul  \n",
       "2            23   Woodgate  Jonathan  \n",
       "3            32   Gabbidon    Daniel  \n",
       "4            14    Bramble     Titus  "
      ]
     },
     "execution_count": 14,
     "metadata": {},
     "output_type": "execute_result"
    }
   ],
   "source": [
    "data1=data.copy()\n",
    "data1.head()"
   ]
  },
  {
   "cell_type": "code",
   "execution_count": 15,
   "metadata": {},
   "outputs": [],
   "source": [
    "data1.drop(data1.columns[[0,8,9]],axis=1, inplace = True)"
   ]
  },
  {
   "cell_type": "markdown",
   "metadata": {},
   "source": [
    "To build a model using K-means algorithm, data should only have numeric/integer variables. \n",
    "Checking if all other variables are numeric or not, as we can only use numerical variables for clustering"
   ]
  },
  {
   "cell_type": "code",
   "execution_count": 17,
   "metadata": {},
   "outputs": [
    {
     "data": {
      "text/plain": [
       "Tackles           int64\n",
       "wontackles      float64\n",
       "duels             int64\n",
       "wonduels        float64\n",
       "passes            int64\n",
       "wonpasses       float64\n",
       "interception      int64\n",
       "dtype: object"
      ]
     },
     "execution_count": 17,
     "metadata": {},
     "output_type": "execute_result"
    }
   ],
   "source": [
    "data1.dtypes"
   ]
  },
  {
   "cell_type": "markdown",
   "metadata": {},
   "source": [
    "\n",
    "Checking for missing values in each columns\n"
   ]
  },
  {
   "cell_type": "code",
   "execution_count": 19,
   "metadata": {},
   "outputs": [
    {
     "data": {
      "text/plain": [
       "Tackles         0\n",
       "wontackles      0\n",
       "duels           0\n",
       "wonduels        0\n",
       "passes          0\n",
       "wonpasses       0\n",
       "interception    0\n",
       "dtype: int64"
      ]
     },
     "execution_count": 19,
     "metadata": {},
     "output_type": "execute_result"
    }
   ],
   "source": [
    "data1.isnull().sum() "
   ]
  },
  {
   "cell_type": "markdown",
   "metadata": {},
   "source": [
    "For clustering algorithm, the data should be on same scale.\n",
    "\n",
    "**Scaling the data using `sklearn`**"
   ]
  },
  {
   "cell_type": "code",
   "execution_count": 20,
   "metadata": {},
   "outputs": [],
   "source": [
    "import sklearn.preprocessing as preprocessing\n",
    "dat_scaled=preprocessing.scale(data1,axis=0)"
   ]
  },
  {
   "cell_type": "code",
   "execution_count": 21,
   "metadata": {},
   "outputs": [
    {
     "name": "stdout",
     "output_type": "stream",
     "text": [
      "[[-0.07161472 -0.55356335  0.19231802 ...  0.72211922 -0.0331406\n",
      "   0.20763391]\n",
      " [ 0.36102342 -0.56411628 -0.36985665 ...  0.7741784   1.87028208\n",
      "  -0.05452552]\n",
      " [ 0.08570824 -0.47639505 -0.39662688 ... -0.73374278 -0.46142054\n",
      "  -0.09821876]\n",
      " ...\n",
      " [-0.81889878  0.22383583 -1.07480585 ... -1.09815706 -3.10520237\n",
      "  -0.88469705]\n",
      " [-1.01555248 -1.37669189 -1.253274   ... -1.21663658  0.69654158\n",
      "  -1.10316324]\n",
      " [-1.05488322 -0.41637526 -1.23542719 ... -1.2417686   1.08080388\n",
      "  -1.05947   ]]\n",
      "Type of output is <class 'numpy.ndarray'>\n",
      "Shape of the object is (480, 7)\n"
     ]
    }
   ],
   "source": [
    "print (dat_scaled)\n",
    "print (\"Type of output is \"+str(type(dat_scaled)))\n",
    "print (\"Shape of the object is \"+str(dat_scaled.shape))"
   ]
  },
  {
   "cell_type": "markdown",
   "metadata": {},
   "source": [
    "\n",
    "Now the data is ready to build K-means model\n"
   ]
  },
  {
   "cell_type": "code",
   "execution_count": 22,
   "metadata": {},
   "outputs": [],
   "source": [
    "#importing cluster library from sklearn\n",
    "import sklearn.cluster as cluster"
   ]
  },
  {
   "cell_type": "markdown",
   "metadata": {},
   "source": [
    "**Initially I will build a model using K (no.of clusters) as 5**"
   ]
  },
  {
   "cell_type": "code",
   "execution_count": 23,
   "metadata": {},
   "outputs": [],
   "source": [
    "#Lets choose number of clusters as 5\n",
    "kmeans=cluster.KMeans(n_clusters=5,init=\"k-means++\")\n",
    "kmeans=kmeans.fit(dat_scaled)"
   ]
  },
  {
   "cell_type": "code",
   "execution_count": 24,
   "metadata": {},
   "outputs": [
    {
     "data": {
      "text/plain": [
       "array([[-1.09190039, -3.72099426, -1.16771427,  0.82884216, -0.51008892,\n",
       "        -1.24642171, -0.98236428],\n",
       "       [-0.64313954, -0.04275059, -0.84767724,  0.55564303, -0.70255215,\n",
       "         0.56243306, -0.6204895 ],\n",
       "       [ 1.65229758,  0.04346425,  1.14005344,  0.36754364,  1.5333146 ,\n",
       "         0.55149905,  1.65234799],\n",
       "       [ 0.35696347,  0.05481596,  0.56623759, -0.05999956,  0.32848462,\n",
       "        -0.05706292,  0.31362525],\n",
       "       [-0.79293285,  0.5522889 , -0.45822438, -1.01178207, -0.68332188,\n",
       "        -0.81964016, -0.77397923]])"
      ]
     },
     "execution_count": 24,
     "metadata": {},
     "output_type": "execute_result"
    }
   ],
   "source": [
    "kmeans.cluster_centers_ #cluster center for each variable at each cluster"
   ]
  },
  {
   "cell_type": "markdown",
   "metadata": {},
   "source": [
    "**Now let's find out the optimal no.of cluster (K vlaue) for this data set**\n",
    "\n",
    "**Within Sum of Squares or WSS** - measure the compactness of the cluster. Ideally WSS should be lower\n",
    "The idea is to build 20 clustering models with no.of clusters varying from 1-20 and find out average WSS for each cluster"
   ]
  },
  {
   "cell_type": "code",
   "execution_count": 25,
   "metadata": {},
   "outputs": [],
   "source": [
    "from scipy.spatial.distance import cdist\n",
    "K=range(1,20)\n",
    "wss = []\n",
    "for k in K:\n",
    "    kmeans = cluster.KMeans(n_clusters=k,init=\"k-means++\")\n",
    "    kmeans.fit(dat_scaled)\n",
    "    wss.append(sum(np.min(cdist(dat_scaled, kmeans.cluster_centers_, 'euclidean'), \n",
    "                                      axis=1)) / dat_scaled.shape[0])"
   ]
  },
  {
   "cell_type": "markdown",
   "metadata": {},
   "source": [
    "Let's plot **K vs WSS** "
   ]
  },
  {
   "cell_type": "code",
   "execution_count": 26,
   "metadata": {},
   "outputs": [
    {
     "data": {
      "image/png": "[encoded data removed]",
      "text/plain": [
       "<Figure size 432x288 with 1 Axes>"
      ]
     },
     "metadata": {
      "needs_background": "light"
     },
     "output_type": "display_data"
    }
   ],
   "source": [
    "plt.plot(K, wss, 'bx')\n",
    "plt.xlabel('No.of Clusters (k)')\n",
    "plt.ylabel('WSS')\n",
    "plt.title('Selecting k with the Elbow Method')\n",
    "positions = (2,4,6,8,10,12,14,16,18,20)\n",
    "plt.xticks(positions)\n",
    "plt.show()"
   ]
  },
  {
   "cell_type": "markdown",
   "metadata": {},
   "source": [
    "From the above plot (k vs WSS), we can see that after the point 12 (k) the line flattens out a bit\n",
    "\n",
    "But it's very unclear to choose a number for k from the above plot\n",
    "\n",
    "**Silhoutte score** can help us in choosing a number for k. **Silhouttte score is a measure used to calculate the notions of clusters being far apart (seperation) and compact (cohesion)**\n",
    "\n",
    "![Silhoutte score](https://github.com/AjayprathapCh/K-Means-Clustering/blob/master/Silhoutte%20Measure.PNG)\n",
    "\n",
    "First, find out Silhoutte score for K = 12"
   ]
  },
  {
   "cell_type": "code",
   "execution_count": 31,
   "metadata": {},
   "outputs": [],
   "source": [
    "#With 12 clusters\n",
    "import sklearn.metrics as metrics\n",
    "labels=cluster.KMeans(n_clusters=12,random_state=200).fit(dat_scaled).labels_"
   ]
  },
  {
   "cell_type": "code",
   "execution_count": 28,
   "metadata": {},
   "outputs": [
    {
     "data": {
      "text/plain": [
       "0.17235050498119495"
      ]
     },
     "execution_count": 28,
     "metadata": {},
     "output_type": "execute_result"
    }
   ],
   "source": [
    "metrics.silhouette_score(dat_scaled,labels,metric=\"euclidean\",sample_size=100,random_state=200)"
   ]
  },
  {
   "cell_type": "markdown",
   "metadata": {},
   "source": [
    "Lets do build a grid search to see if we can achieve a better silhouette score at a different K value. "
   ]
  },
  {
   "cell_type": "code",
   "execution_count": 30,
   "metadata": {},
   "outputs": [
    {
     "name": "stdout",
     "output_type": "stream",
     "text": [
      "Silhoutte score for k= 5 is 0.22006784997177709\n",
      "Silhoutte score for k= 6 is 0.22149855528574197\n",
      "Silhoutte score for k= 7 is 0.21817863708669816\n",
      "Silhoutte score for k= 8 is 0.19690149515507324\n",
      "Silhoutte score for k= 9 is 0.19354855917623137\n",
      "Silhoutte score for k= 10 is 0.17948804714965066\n",
      "Silhoutte score for k= 11 is 0.2009046819510943\n",
      "Silhoutte score for k= 12 is 0.19887057584225984\n",
      "Silhoutte score for k= 13 is 0.19292880930822723\n",
      "Silhoutte score for k= 14 is 0.19060973198317396\n"
     ]
    }
   ],
   "source": [
    "\n",
    "for i in range(5,15):\n",
    "    labels=cluster.KMeans(n_clusters=i,random_state=200).fit(dat_scaled).labels_\n",
    "    print (\"Silhoutte score for k= \"+str(i)+\" is \"+str(metrics.silhouette_score(dat_scaled,labels,metric=\"euclidean\",\n",
    "                                 sample_size=1000,random_state=200)))"
   ]
  },
  {
   "cell_type": "markdown",
   "metadata": {},
   "source": [
    "From above we can observe that at k=6 the model is getting the highest Silhoutte score and as K increases the Silhoutte score is decreasing constantly. The higher the the Silhoutte score the better the model\n",
    "\n",
    "Hence, for the given data we can conclude 6 clusters would be good"
   ]
  },
  {
   "cell_type": "markdown",
   "metadata": {},
   "source": [
    "We can use cluster profiling to check the heterogeneity between clusters"
   ]
  },
  {
   "cell_type": "code",
   "execution_count": 32,
   "metadata": {},
   "outputs": [],
   "source": [
    "import cluster_profiles as cluster_profiles"
   ]
  },
  {
   "cell_type": "code",
   "execution_count": 33,
   "metadata": {},
   "outputs": [],
   "source": [
    "kmeans=cluster.KMeans(n_clusters=6,random_state=200).fit(dat_scaled)"
   ]
  },
  {
   "cell_type": "code",
   "execution_count": 34,
   "metadata": {},
   "outputs": [
    {
     "data": {
      "text/html": [
       "<div>\n",
       "<style scoped>\n",
       "    .dataframe tbody tr th:only-of-type {\n",
       "        vertical-align: middle;\n",
       "    }\n",
       "\n",
       "    .dataframe tbody tr th {\n",
       "        vertical-align: top;\n",
       "    }\n",
       "\n",
       "    .dataframe thead th {\n",
       "        text-align: right;\n",
       "    }\n",
       "</style>\n",
       "<table border=\"1\" class=\"dataframe\">\n",
       "  <thead>\n",
       "    <tr style=\"text-align: right;\">\n",
       "      <th></th>\n",
       "      <th>Tackles</th>\n",
       "      <th>wontackles</th>\n",
       "      <th>duels</th>\n",
       "      <th>wonduels</th>\n",
       "      <th>passes</th>\n",
       "      <th>wonpasses</th>\n",
       "      <th>interception</th>\n",
       "      <th>Size</th>\n",
       "    </tr>\n",
       "    <tr>\n",
       "      <th>Labels</th>\n",
       "      <th></th>\n",
       "      <th></th>\n",
       "      <th></th>\n",
       "      <th></th>\n",
       "      <th></th>\n",
       "      <th></th>\n",
       "      <th></th>\n",
       "      <th></th>\n",
       "    </tr>\n",
       "  </thead>\n",
       "  <tbody>\n",
       "    <tr>\n",
       "      <td>0</td>\n",
       "      <td>-0.140297</td>\n",
       "      <td>0.006249</td>\n",
       "      <td>1.011658</td>\n",
       "      <td>-0.784412</td>\n",
       "      <td>0.133263</td>\n",
       "      <td>-0.614295</td>\n",
       "      <td>-0.249792</td>\n",
       "      <td>80</td>\n",
       "    </tr>\n",
       "    <tr>\n",
       "      <td>1</td>\n",
       "      <td>-0.919455</td>\n",
       "      <td>0.826305</td>\n",
       "      <td>-0.803733</td>\n",
       "      <td>-0.996005</td>\n",
       "      <td>-0.835558</td>\n",
       "      <td>-0.814194</td>\n",
       "      <td>-0.889084</td>\n",
       "      <td>74</td>\n",
       "    </tr>\n",
       "    <tr>\n",
       "      <td>2</td>\n",
       "      <td>-0.663785</td>\n",
       "      <td>-0.087181</td>\n",
       "      <td>-0.861062</td>\n",
       "      <td>0.523120</td>\n",
       "      <td>-0.757393</td>\n",
       "      <td>0.527781</td>\n",
       "      <td>-0.666968</td>\n",
       "      <td>122</td>\n",
       "    </tr>\n",
       "    <tr>\n",
       "      <td>3</td>\n",
       "      <td>1.740279</td>\n",
       "      <td>0.022955</td>\n",
       "      <td>1.244364</td>\n",
       "      <td>0.275218</td>\n",
       "      <td>1.621052</td>\n",
       "      <td>0.516951</td>\n",
       "      <td>1.639062</td>\n",
       "      <td>70</td>\n",
       "    </tr>\n",
       "    <tr>\n",
       "      <td>4</td>\n",
       "      <td>0.473522</td>\n",
       "      <td>0.077953</td>\n",
       "      <td>0.128435</td>\n",
       "      <td>0.336161</td>\n",
       "      <td>0.318670</td>\n",
       "      <td>0.241358</td>\n",
       "      <td>0.577683</td>\n",
       "      <td>118</td>\n",
       "    </tr>\n",
       "    <tr>\n",
       "      <td>5</td>\n",
       "      <td>-1.090618</td>\n",
       "      <td>-3.863482</td>\n",
       "      <td>-1.166727</td>\n",
       "      <td>0.856530</td>\n",
       "      <td>-0.469031</td>\n",
       "      <td>-1.228881</td>\n",
       "      <td>-0.984710</td>\n",
       "      <td>16</td>\n",
       "    </tr>\n",
       "  </tbody>\n",
       "</table>\n",
       "</div>"
      ],
      "text/plain": [
       "         Tackles  wontackles     duels  wonduels    passes  wonpasses  \\\n",
       "Labels                                                                  \n",
       "0      -0.140297    0.006249  1.011658 -0.784412  0.133263  -0.614295   \n",
       "1      -0.919455    0.826305 -0.803733 -0.996005 -0.835558  -0.814194   \n",
       "2      -0.663785   -0.087181 -0.861062  0.523120 -0.757393   0.527781   \n",
       "3       1.740279    0.022955  1.244364  0.275218  1.621052   0.516951   \n",
       "4       0.473522    0.077953  0.128435  0.336161  0.318670   0.241358   \n",
       "5      -1.090618   -3.863482 -1.166727  0.856530 -0.469031  -1.228881   \n",
       "\n",
       "        interception  Size  \n",
       "Labels                      \n",
       "0          -0.249792    80  \n",
       "1          -0.889084    74  \n",
       "2          -0.666968   122  \n",
       "3           1.639062    70  \n",
       "4           0.577683   118  \n",
       "5          -0.984710    16  "
      ]
     },
     "execution_count": 34,
     "metadata": {},
     "output_type": "execute_result"
    }
   ],
   "source": [
    "cluster_profiles.get_zprofiles(data=data1.copy(),kmeans=kmeans)\n",
    "#The below cluster profile shows that each cluster is separated failry enough"
   ]
  },
  {
   "cell_type": "code",
   "execution_count": 35,
   "metadata": {},
   "outputs": [
    {
     "data": {
      "text/plain": [
       "array([0, 4, 2, 4, 2, 1, 0, 4, 0, 4, 4, 2, 1, 3, 4, 4, 1, 5, 3, 2, 0, 2,\n",
       "       3, 4, 0, 2, 3, 4, 4, 4, 4, 4, 4, 4, 2, 2, 2, 4, 5, 4, 4, 3, 1, 3,\n",
       "       2, 2, 0, 1, 1, 0, 4, 4, 0, 0, 0, 4, 0, 3, 2, 3, 2, 0, 2, 0, 1, 1,\n",
       "       0, 4, 0, 2, 2, 4, 1, 1, 0, 4, 4, 1, 2, 1, 2, 2, 2, 4, 4, 4, 0, 4,\n",
       "       2, 0, 3, 2, 4, 4, 0, 4, 1, 2, 1, 4, 3, 4, 4, 1, 2, 4, 0, 0, 0, 2,\n",
       "       4, 3, 0, 2, 2, 3, 4, 4, 1, 4, 0, 2, 4, 4, 4, 0, 0, 4, 1, 2, 2, 2,\n",
       "       3, 4, 5, 0, 4, 0, 1, 0, 2, 3, 2, 2, 4, 3, 1, 2, 0, 2, 0, 2, 1, 3,\n",
       "       3, 4, 4, 2, 2, 2, 4, 4, 1, 3, 4, 4, 2, 4, 3, 3, 2, 0, 3, 2, 2, 2,\n",
       "       4, 3, 0, 4, 0, 4, 3, 4, 4, 4, 2, 4, 4, 3, 2, 4, 3, 0, 4, 1, 1, 2,\n",
       "       3, 3, 2, 0, 0, 1, 2, 2, 0, 0, 1, 0, 4, 4, 4, 0, 4, 4, 3, 2, 4, 4,\n",
       "       3, 2, 4, 0, 1, 5, 4, 1, 4, 4, 2, 1, 4, 1, 1, 0, 0, 2, 1, 4, 3, 2,\n",
       "       4, 2, 1, 4, 3, 3, 2, 2, 0, 0, 0, 5, 4, 4, 4, 2, 4, 3, 3, 3, 3, 3,\n",
       "       4, 3, 3, 0, 2, 3, 2, 1, 0, 4, 0, 2, 2, 2, 3, 4, 1, 4, 3, 3, 4, 5,\n",
       "       4, 4, 1, 0, 5, 4, 1, 4, 3, 5, 0, 3, 2, 0, 1, 3, 3, 4, 2, 1, 0, 1,\n",
       "       0, 4, 4, 3, 4, 4, 4, 1, 5, 2, 2, 0, 0, 2, 0, 3, 0, 5, 1, 0, 0, 1,\n",
       "       0, 1, 3, 0, 2, 0, 2, 2, 1, 1, 0, 3, 2, 3, 1, 3, 0, 4, 3, 2, 0, 4,\n",
       "       2, 3, 2, 2, 4, 2, 0, 0, 2, 2, 1, 3, 1, 3, 4, 2, 0, 0, 1, 1, 0, 1,\n",
       "       2, 3, 0, 2, 0, 3, 2, 4, 3, 0, 0, 2, 4, 4, 2, 4, 3, 1, 3, 1, 0, 5,\n",
       "       2, 3, 1, 2, 3, 2, 2, 4, 1, 4, 4, 4, 2, 2, 2, 4, 3, 1, 4, 1, 3, 3,\n",
       "       1, 2, 4, 3, 1, 1, 5, 2, 2, 0, 1, 2, 1, 5, 5, 1, 0, 2, 1, 3, 4, 2,\n",
       "       2, 2, 5, 2, 3, 1, 4, 2, 2, 2, 4, 2, 2, 1, 1, 2, 1, 2, 4, 0, 2, 2,\n",
       "       1, 2, 2, 2, 2, 1, 5, 4, 2, 1, 2, 1, 2, 2, 1, 1, 2, 2])"
      ]
     },
     "execution_count": 35,
     "metadata": {},
     "output_type": "execute_result"
    }
   ],
   "source": [
    "kmeans.labels_ #Final cluster label for each observation in the data with k=6"
   ]
  },
  {
   "cell_type": "markdown",
   "metadata": {},
   "source": [
    "Now we have cluster label for each observation. Let's assign cluster lables to the original observations"
   ]
  },
  {
   "cell_type": "code",
   "execution_count": 45,
   "metadata": {},
   "outputs": [
    {
     "data": {
      "text/html": [
       "<div>\n",
       "<style scoped>\n",
       "    .dataframe tbody tr th:only-of-type {\n",
       "        vertical-align: middle;\n",
       "    }\n",
       "\n",
       "    .dataframe tbody tr th {\n",
       "        vertical-align: top;\n",
       "    }\n",
       "\n",
       "    .dataframe thead th {\n",
       "        text-align: right;\n",
       "    }\n",
       "</style>\n",
       "<table border=\"1\" class=\"dataframe\">\n",
       "  <thead>\n",
       "    <tr style=\"text-align: right;\">\n",
       "      <th></th>\n",
       "      <th>Player Id</th>\n",
       "      <th>Tackles</th>\n",
       "      <th>wontackles</th>\n",
       "      <th>duels</th>\n",
       "      <th>wonduels</th>\n",
       "      <th>passes</th>\n",
       "      <th>wonpasses</th>\n",
       "      <th>interception</th>\n",
       "      <th>First_Name</th>\n",
       "      <th>Last_Name</th>\n",
       "      <th>Cluster_Label</th>\n",
       "    </tr>\n",
       "  </thead>\n",
       "  <tbody>\n",
       "    <tr>\n",
       "      <td>0</td>\n",
       "      <td>3</td>\n",
       "      <td>28</td>\n",
       "      <td>0.642857</td>\n",
       "      <td>170</td>\n",
       "      <td>0.394118</td>\n",
       "      <td>1108</td>\n",
       "      <td>0.753610</td>\n",
       "      <td>30</td>\n",
       "      <td>Giggs</td>\n",
       "      <td>Ryan</td>\n",
       "      <td>0</td>\n",
       "    </tr>\n",
       "    <tr>\n",
       "      <td>1</td>\n",
       "      <td>363</td>\n",
       "      <td>39</td>\n",
       "      <td>0.641026</td>\n",
       "      <td>107</td>\n",
       "      <td>0.532710</td>\n",
       "      <td>1137</td>\n",
       "      <td>0.930519</td>\n",
       "      <td>24</td>\n",
       "      <td>Scholes</td>\n",
       "      <td>Paul</td>\n",
       "      <td>4</td>\n",
       "    </tr>\n",
       "    <tr>\n",
       "      <td>2</td>\n",
       "      <td>973</td>\n",
       "      <td>32</td>\n",
       "      <td>0.656250</td>\n",
       "      <td>104</td>\n",
       "      <td>0.625000</td>\n",
       "      <td>297</td>\n",
       "      <td>0.713805</td>\n",
       "      <td>23</td>\n",
       "      <td>Woodgate</td>\n",
       "      <td>Jonathan</td>\n",
       "      <td>2</td>\n",
       "    </tr>\n",
       "    <tr>\n",
       "      <td>3</td>\n",
       "      <td>1059</td>\n",
       "      <td>28</td>\n",
       "      <td>0.785714</td>\n",
       "      <td>135</td>\n",
       "      <td>0.577778</td>\n",
       "      <td>424</td>\n",
       "      <td>0.738208</td>\n",
       "      <td>32</td>\n",
       "      <td>Gabbidon</td>\n",
       "      <td>Daniel</td>\n",
       "      <td>4</td>\n",
       "    </tr>\n",
       "    <tr>\n",
       "      <td>4</td>\n",
       "      <td>1131</td>\n",
       "      <td>12</td>\n",
       "      <td>0.916667</td>\n",
       "      <td>58</td>\n",
       "      <td>0.620690</td>\n",
       "      <td>232</td>\n",
       "      <td>0.780172</td>\n",
       "      <td>14</td>\n",
       "      <td>Bramble</td>\n",
       "      <td>Titus</td>\n",
       "      <td>2</td>\n",
       "    </tr>\n",
       "  </tbody>\n",
       "</table>\n",
       "</div>"
      ],
      "text/plain": [
       "   Player Id  Tackles  wontackles  duels  wonduels  passes  wonpasses  \\\n",
       "0          3       28    0.642857    170  0.394118    1108   0.753610   \n",
       "1        363       39    0.641026    107  0.532710    1137   0.930519   \n",
       "2        973       32    0.656250    104  0.625000     297   0.713805   \n",
       "3       1059       28    0.785714    135  0.577778     424   0.738208   \n",
       "4       1131       12    0.916667     58  0.620690     232   0.780172   \n",
       "\n",
       "   interception First_Name Last_Name  Cluster_Label  \n",
       "0            30      Giggs      Ryan              0  \n",
       "1            24    Scholes      Paul              4  \n",
       "2            23   Woodgate  Jonathan              2  \n",
       "3            32   Gabbidon    Daniel              4  \n",
       "4            14    Bramble     Titus              2  "
      ]
     },
     "execution_count": 45,
     "metadata": {},
     "output_type": "execute_result"
    }
   ],
   "source": [
    "#Adding cluster Label to original data\n",
    "data['Cluster_Label']=kmeans.labels_ \n",
    "data.head()"
   ]
  },
  {
   "cell_type": "markdown",
   "metadata": {},
   "source": [
    "Now, let's check which cluster `Song` belongs to."
   ]
  },
  {
   "cell_type": "code",
   "execution_count": 46,
   "metadata": {},
   "outputs": [
    {
     "data": {
      "text/html": [
       "<div>\n",
       "<style scoped>\n",
       "    .dataframe tbody tr th:only-of-type {\n",
       "        vertical-align: middle;\n",
       "    }\n",
       "\n",
       "    .dataframe tbody tr th {\n",
       "        vertical-align: top;\n",
       "    }\n",
       "\n",
       "    .dataframe thead th {\n",
       "        text-align: right;\n",
       "    }\n",
       "</style>\n",
       "<table border=\"1\" class=\"dataframe\">\n",
       "  <thead>\n",
       "    <tr style=\"text-align: right;\">\n",
       "      <th></th>\n",
       "      <th>Player Id</th>\n",
       "      <th>Tackles</th>\n",
       "      <th>wontackles</th>\n",
       "      <th>duels</th>\n",
       "      <th>wonduels</th>\n",
       "      <th>passes</th>\n",
       "      <th>wonpasses</th>\n",
       "      <th>interception</th>\n",
       "      <th>First_Name</th>\n",
       "      <th>Last_Name</th>\n",
       "      <th>Cluster_Label</th>\n",
       "    </tr>\n",
       "  </thead>\n",
       "  <tbody>\n",
       "    <tr>\n",
       "      <td>263</td>\n",
       "      <td>21091</td>\n",
       "      <td>100</td>\n",
       "      <td>0.73</td>\n",
       "      <td>396</td>\n",
       "      <td>0.474747</td>\n",
       "      <td>2261</td>\n",
       "      <td>0.839894</td>\n",
       "      <td>66</td>\n",
       "      <td>Song</td>\n",
       "      <td>Alexandre</td>\n",
       "      <td>3</td>\n",
       "    </tr>\n",
       "  </tbody>\n",
       "</table>\n",
       "</div>"
      ],
      "text/plain": [
       "     Player Id  Tackles  wontackles  duels  wonduels  passes  wonpasses  \\\n",
       "263      21091      100        0.73    396  0.474747    2261   0.839894   \n",
       "\n",
       "     interception First_Name  Last_Name  Cluster_Label  \n",
       "263            66       Song  Alexandre              3  "
      ]
     },
     "execution_count": 46,
     "metadata": {},
     "output_type": "execute_result"
    }
   ],
   "source": [
    "\n",
    "data[data['First_Name']==\"Song\"]\n",
    "\n",
    "#Player 'Song' belongs to cluster 3"
   ]
  },
  {
   "cell_type": "markdown",
   "metadata": {},
   "source": [
    "**Visualizing clusters**\n",
    "\n",
    "Let's create plot Tackles vs Passes and label the data points with Cluster Label"
   ]
  },
  {
   "cell_type": "code",
   "execution_count": 42,
   "metadata": {},
   "outputs": [
    {
     "data": {
      "image/png": "[encoded data removed]",
      "text/plain": [
       "<Figure size 432x288 with 1 Axes>"
      ]
     },
     "metadata": {
      "needs_background": "light"
     },
     "output_type": "display_data"
    }
   ],
   "source": [
    "plt.scatter(data['Tackles'], data['passes'],c=data['Cluster_Label'],cmap=plt.cm.RdYlGn)\n",
    "plt.xlabel('Tackles')\n",
    "plt.ylabel('Passes')\n",
    "plt.title('Players Cluster (Tackles vs Passes)')\n",
    "plt.show()"
   ]
  },
  {
   "cell_type": "markdown",
   "metadata": {},
   "source": [
    "Now lets find out which player can replace 'Song' with the help of Clusters. The idea is to find out a player with similar set of attributes from cluster 3.\n",
    "\n",
    "From cluster profiling output we know that there are 70 players in cluster 3"
   ]
  },
  {
   "cell_type": "code",
   "execution_count": 48,
   "metadata": {},
   "outputs": [
    {
     "name": "stdout",
     "output_type": "stream",
     "text": [
      "Out of 70 players in cluster 3, the below 15 players have same level of skill set as Song\n"
     ]
    },
    {
     "data": {
      "text/html": [
       "<div>\n",
       "<style scoped>\n",
       "    .dataframe tbody tr th:only-of-type {\n",
       "        vertical-align: middle;\n",
       "    }\n",
       "\n",
       "    .dataframe tbody tr th {\n",
       "        vertical-align: top;\n",
       "    }\n",
       "\n",
       "    .dataframe thead th {\n",
       "        text-align: right;\n",
       "    }\n",
       "</style>\n",
       "<table border=\"1\" class=\"dataframe\">\n",
       "  <thead>\n",
       "    <tr style=\"text-align: right;\">\n",
       "      <th></th>\n",
       "      <th>Player Id</th>\n",
       "      <th>Tackles</th>\n",
       "      <th>wontackles</th>\n",
       "      <th>duels</th>\n",
       "      <th>wonduels</th>\n",
       "      <th>passes</th>\n",
       "      <th>wonpasses</th>\n",
       "      <th>interception</th>\n",
       "      <th>First_Name</th>\n",
       "      <th>Last_Name</th>\n",
       "      <th>Cluster_Label</th>\n",
       "    </tr>\n",
       "  </thead>\n",
       "  <tbody>\n",
       "    <tr>\n",
       "      <td>90</td>\n",
       "      <td>7933</td>\n",
       "      <td>68</td>\n",
       "      <td>0.735294</td>\n",
       "      <td>238</td>\n",
       "      <td>0.554622</td>\n",
       "      <td>1230</td>\n",
       "      <td>0.838211</td>\n",
       "      <td>70</td>\n",
       "      <td>Coloccini</td>\n",
       "      <td>Fabricio</td>\n",
       "      <td>3</td>\n",
       "    </tr>\n",
       "    <tr>\n",
       "      <td>100</td>\n",
       "      <td>8758</td>\n",
       "      <td>72</td>\n",
       "      <td>0.819444</td>\n",
       "      <td>293</td>\n",
       "      <td>0.563140</td>\n",
       "      <td>2413</td>\n",
       "      <td>0.876917</td>\n",
       "      <td>56</td>\n",
       "      <td>Arteta</td>\n",
       "      <td>Mikel</td>\n",
       "      <td>3</td>\n",
       "    </tr>\n",
       "    <tr>\n",
       "      <td>111</td>\n",
       "      <td>10561</td>\n",
       "      <td>51</td>\n",
       "      <td>0.784314</td>\n",
       "      <td>187</td>\n",
       "      <td>0.561497</td>\n",
       "      <td>1444</td>\n",
       "      <td>0.856648</td>\n",
       "      <td>60</td>\n",
       "      <td>Henry</td>\n",
       "      <td>Karl</td>\n",
       "      <td>3</td>\n",
       "    </tr>\n",
       "    <tr>\n",
       "      <td>153</td>\n",
       "      <td>14664</td>\n",
       "      <td>55</td>\n",
       "      <td>0.818182</td>\n",
       "      <td>259</td>\n",
       "      <td>0.536680</td>\n",
       "      <td>2441</td>\n",
       "      <td>0.897583</td>\n",
       "      <td>39</td>\n",
       "      <td>Yaya Touré</td>\n",
       "      <td>0</td>\n",
       "      <td>3</td>\n",
       "    </tr>\n",
       "    <tr>\n",
       "      <td>154</td>\n",
       "      <td>14668</td>\n",
       "      <td>86</td>\n",
       "      <td>0.732558</td>\n",
       "      <td>324</td>\n",
       "      <td>0.490741</td>\n",
       "      <td>1684</td>\n",
       "      <td>0.833729</td>\n",
       "      <td>81</td>\n",
       "      <td>Reo-Coker</td>\n",
       "      <td>Nigel</td>\n",
       "      <td>3</td>\n",
       "    </tr>\n",
       "    <tr>\n",
       "      <td>169</td>\n",
       "      <td>15284</td>\n",
       "      <td>53</td>\n",
       "      <td>0.773585</td>\n",
       "      <td>247</td>\n",
       "      <td>0.655870</td>\n",
       "      <td>1818</td>\n",
       "      <td>0.842134</td>\n",
       "      <td>79</td>\n",
       "      <td>Hangeland</td>\n",
       "      <td>Brede</td>\n",
       "      <td>3</td>\n",
       "    </tr>\n",
       "    <tr>\n",
       "      <td>177</td>\n",
       "      <td>15943</td>\n",
       "      <td>47</td>\n",
       "      <td>0.829787</td>\n",
       "      <td>216</td>\n",
       "      <td>0.606481</td>\n",
       "      <td>1471</td>\n",
       "      <td>0.851122</td>\n",
       "      <td>67</td>\n",
       "      <td>Vermaelen</td>\n",
       "      <td>Thomas</td>\n",
       "      <td>3</td>\n",
       "    </tr>\n",
       "    <tr>\n",
       "      <td>192</td>\n",
       "      <td>17476</td>\n",
       "      <td>65</td>\n",
       "      <td>0.784615</td>\n",
       "      <td>176</td>\n",
       "      <td>0.670455</td>\n",
       "      <td>1651</td>\n",
       "      <td>0.863113</td>\n",
       "      <td>73</td>\n",
       "      <td>Kompany</td>\n",
       "      <td>Vincent</td>\n",
       "      <td>3</td>\n",
       "    </tr>\n",
       "    <tr>\n",
       "      <td>220</td>\n",
       "      <td>19159</td>\n",
       "      <td>57</td>\n",
       "      <td>0.754386</td>\n",
       "      <td>243</td>\n",
       "      <td>0.547325</td>\n",
       "      <td>2595</td>\n",
       "      <td>0.852408</td>\n",
       "      <td>83</td>\n",
       "      <td>Williams</td>\n",
       "      <td>Ashley</td>\n",
       "      <td>3</td>\n",
       "    </tr>\n",
       "    <tr>\n",
       "      <td>263</td>\n",
       "      <td>21091</td>\n",
       "      <td>100</td>\n",
       "      <td>0.730000</td>\n",
       "      <td>396</td>\n",
       "      <td>0.474747</td>\n",
       "      <td>2261</td>\n",
       "      <td>0.839894</td>\n",
       "      <td>66</td>\n",
       "      <td>Song</td>\n",
       "      <td>Alexandre</td>\n",
       "      <td>3</td>\n",
       "    </tr>\n",
       "    <tr>\n",
       "      <td>266</td>\n",
       "      <td>26793</td>\n",
       "      <td>57</td>\n",
       "      <td>0.754386</td>\n",
       "      <td>228</td>\n",
       "      <td>0.684211</td>\n",
       "      <td>1508</td>\n",
       "      <td>0.831565</td>\n",
       "      <td>49</td>\n",
       "      <td>Skrtel</td>\n",
       "      <td>Martin</td>\n",
       "      <td>3</td>\n",
       "    </tr>\n",
       "    <tr>\n",
       "      <td>311</td>\n",
       "      <td>37742</td>\n",
       "      <td>68</td>\n",
       "      <td>0.735294</td>\n",
       "      <td>311</td>\n",
       "      <td>0.665595</td>\n",
       "      <td>1558</td>\n",
       "      <td>0.836970</td>\n",
       "      <td>77</td>\n",
       "      <td>Kaboul</td>\n",
       "      <td>Younes</td>\n",
       "      <td>3</td>\n",
       "    </tr>\n",
       "    <tr>\n",
       "      <td>323</td>\n",
       "      <td>39104</td>\n",
       "      <td>112</td>\n",
       "      <td>0.758929</td>\n",
       "      <td>478</td>\n",
       "      <td>0.577406</td>\n",
       "      <td>1702</td>\n",
       "      <td>0.877203</td>\n",
       "      <td>33</td>\n",
       "      <td>Dembélé</td>\n",
       "      <td>Moussa</td>\n",
       "      <td>3</td>\n",
       "    </tr>\n",
       "    <tr>\n",
       "      <td>332</td>\n",
       "      <td>39895</td>\n",
       "      <td>101</td>\n",
       "      <td>0.782178</td>\n",
       "      <td>376</td>\n",
       "      <td>0.505319</td>\n",
       "      <td>1667</td>\n",
       "      <td>0.838032</td>\n",
       "      <td>101</td>\n",
       "      <td>Mulumbu</td>\n",
       "      <td>Youssuf</td>\n",
       "      <td>3</td>\n",
       "    </tr>\n",
       "    <tr>\n",
       "      <td>341</td>\n",
       "      <td>40555</td>\n",
       "      <td>110</td>\n",
       "      <td>0.745455</td>\n",
       "      <td>367</td>\n",
       "      <td>0.539510</td>\n",
       "      <td>2219</td>\n",
       "      <td>0.900406</td>\n",
       "      <td>74</td>\n",
       "      <td>Allen</td>\n",
       "      <td>Joe</td>\n",
       "      <td>3</td>\n",
       "    </tr>\n",
       "    <tr>\n",
       "      <td>390</td>\n",
       "      <td>50472</td>\n",
       "      <td>79</td>\n",
       "      <td>0.746835</td>\n",
       "      <td>247</td>\n",
       "      <td>0.506073</td>\n",
       "      <td>1538</td>\n",
       "      <td>0.868661</td>\n",
       "      <td>57</td>\n",
       "      <td>McCarthy</td>\n",
       "      <td>James</td>\n",
       "      <td>3</td>\n",
       "    </tr>\n",
       "    <tr>\n",
       "      <td>397</td>\n",
       "      <td>52876</td>\n",
       "      <td>84</td>\n",
       "      <td>0.738095</td>\n",
       "      <td>217</td>\n",
       "      <td>0.672811</td>\n",
       "      <td>811</td>\n",
       "      <td>0.866831</td>\n",
       "      <td>43</td>\n",
       "      <td>Sandro</td>\n",
       "      <td>0</td>\n",
       "      <td>3</td>\n",
       "    </tr>\n",
       "  </tbody>\n",
       "</table>\n",
       "</div>"
      ],
      "text/plain": [
       "     Player Id  Tackles  wontackles  duels  wonduels  passes  wonpasses  \\\n",
       "90        7933       68    0.735294    238  0.554622    1230   0.838211   \n",
       "100       8758       72    0.819444    293  0.563140    2413   0.876917   \n",
       "111      10561       51    0.784314    187  0.561497    1444   0.856648   \n",
       "153      14664       55    0.818182    259  0.536680    2441   0.897583   \n",
       "154      14668       86    0.732558    324  0.490741    1684   0.833729   \n",
       "169      15284       53    0.773585    247  0.655870    1818   0.842134   \n",
       "177      15943       47    0.829787    216  0.606481    1471   0.851122   \n",
       "192      17476       65    0.784615    176  0.670455    1651   0.863113   \n",
       "220      19159       57    0.754386    243  0.547325    2595   0.852408   \n",
       "263      21091      100    0.730000    396  0.474747    2261   0.839894   \n",
       "266      26793       57    0.754386    228  0.684211    1508   0.831565   \n",
       "311      37742       68    0.735294    311  0.665595    1558   0.836970   \n",
       "323      39104      112    0.758929    478  0.577406    1702   0.877203   \n",
       "332      39895      101    0.782178    376  0.505319    1667   0.838032   \n",
       "341      40555      110    0.745455    367  0.539510    2219   0.900406   \n",
       "390      50472       79    0.746835    247  0.506073    1538   0.868661   \n",
       "397      52876       84    0.738095    217  0.672811     811   0.866831   \n",
       "\n",
       "     interception  First_Name  Last_Name  Cluster_Label  \n",
       "90             70   Coloccini   Fabricio              3  \n",
       "100            56      Arteta      Mikel              3  \n",
       "111            60       Henry       Karl              3  \n",
       "153            39  Yaya Touré          0              3  \n",
       "154            81   Reo-Coker      Nigel              3  \n",
       "169            79   Hangeland      Brede              3  \n",
       "177            67   Vermaelen     Thomas              3  \n",
       "192            73     Kompany    Vincent              3  \n",
       "220            83    Williams     Ashley              3  \n",
       "263            66        Song  Alexandre              3  \n",
       "266            49      Skrtel     Martin              3  \n",
       "311            77      Kaboul     Younes              3  \n",
       "323            33     Dembélé     Moussa              3  \n",
       "332           101     Mulumbu    Youssuf              3  \n",
       "341            74       Allen        Joe              3  \n",
       "390            57    McCarthy      James              3  \n",
       "397            43      Sandro          0              3  "
      ]
     },
     "execution_count": 48,
     "metadata": {},
     "output_type": "execute_result"
    }
   ],
   "source": [
    "\n",
    "\n",
    "print(\"Out of 70 players in cluster 3, the below 15 players have same level of skill set as Song\")\n",
    "similar_players=data[(data['Cluster_Label']==3) & (data['wontackles']>=0.73) & (data['wonpasses']>=0.83) & (data['wonpasses']>=0.47)]\n",
    "similar_players"
   ]
  },
  {
   "cell_type": "markdown",
   "metadata": {},
   "source": [
    "Let's refine the bove list further to narrow down no.of players to replace 'Song'"
   ]
  },
  {
   "cell_type": "code",
   "execution_count": 51,
   "metadata": {},
   "outputs": [
    {
     "data": {
      "text/html": [
       "<div>\n",
       "<style scoped>\n",
       "    .dataframe tbody tr th:only-of-type {\n",
       "        vertical-align: middle;\n",
       "    }\n",
       "\n",
       "    .dataframe tbody tr th {\n",
       "        vertical-align: top;\n",
       "    }\n",
       "\n",
       "    .dataframe thead th {\n",
       "        text-align: right;\n",
       "    }\n",
       "</style>\n",
       "<table border=\"1\" class=\"dataframe\">\n",
       "  <thead>\n",
       "    <tr style=\"text-align: right;\">\n",
       "      <th></th>\n",
       "      <th>Player Id</th>\n",
       "      <th>Tackles</th>\n",
       "      <th>wontackles</th>\n",
       "      <th>duels</th>\n",
       "      <th>wonduels</th>\n",
       "      <th>passes</th>\n",
       "      <th>wonpasses</th>\n",
       "      <th>interception</th>\n",
       "      <th>First_Name</th>\n",
       "      <th>Last_Name</th>\n",
       "      <th>Cluster_Label</th>\n",
       "    </tr>\n",
       "  </thead>\n",
       "  <tbody>\n",
       "    <tr>\n",
       "      <td>323</td>\n",
       "      <td>39104</td>\n",
       "      <td>112</td>\n",
       "      <td>0.758929</td>\n",
       "      <td>478</td>\n",
       "      <td>0.577406</td>\n",
       "      <td>1702</td>\n",
       "      <td>0.877203</td>\n",
       "      <td>33</td>\n",
       "      <td>Dembélé</td>\n",
       "      <td>Moussa</td>\n",
       "      <td>3</td>\n",
       "    </tr>\n",
       "    <tr>\n",
       "      <td>332</td>\n",
       "      <td>39895</td>\n",
       "      <td>101</td>\n",
       "      <td>0.782178</td>\n",
       "      <td>376</td>\n",
       "      <td>0.505319</td>\n",
       "      <td>1667</td>\n",
       "      <td>0.838032</td>\n",
       "      <td>101</td>\n",
       "      <td>Mulumbu</td>\n",
       "      <td>Youssuf</td>\n",
       "      <td>3</td>\n",
       "    </tr>\n",
       "    <tr>\n",
       "      <td>341</td>\n",
       "      <td>40555</td>\n",
       "      <td>110</td>\n",
       "      <td>0.745455</td>\n",
       "      <td>367</td>\n",
       "      <td>0.539510</td>\n",
       "      <td>2219</td>\n",
       "      <td>0.900406</td>\n",
       "      <td>74</td>\n",
       "      <td>Allen</td>\n",
       "      <td>Joe</td>\n",
       "      <td>3</td>\n",
       "    </tr>\n",
       "  </tbody>\n",
       "</table>\n",
       "</div>"
      ],
      "text/plain": [
       "     Player Id  Tackles  wontackles  duels  wonduels  passes  wonpasses  \\\n",
       "323      39104      112    0.758929    478  0.577406    1702   0.877203   \n",
       "332      39895      101    0.782178    376  0.505319    1667   0.838032   \n",
       "341      40555      110    0.745455    367  0.539510    2219   0.900406   \n",
       "\n",
       "     interception First_Name Last_Name  Cluster_Label  \n",
       "323            33    Dembélé    Moussa              3  \n",
       "332           101    Mulumbu   Youssuf              3  \n",
       "341            74      Allen       Joe              3  "
      ]
     },
     "execution_count": 51,
     "metadata": {},
     "output_type": "execute_result"
    }
   ],
   "source": [
    "similar_players[(similar_players['Tackles']>100)]"
   ]
  },
  {
   "cell_type": "markdown",
   "metadata": {},
   "source": [
    "### Form the above list of players 'Allen Joe' looks better suited to replace 'Song'"
   ]
  },
  {
   "cell_type": "code",
   "execution_count": 54,
   "metadata": {},
   "outputs": [
    {
     "data": {
      "text/html": [
       "<div>\n",
       "<style scoped>\n",
       "    .dataframe tbody tr th:only-of-type {\n",
       "        vertical-align: middle;\n",
       "    }\n",
       "\n",
       "    .dataframe tbody tr th {\n",
       "        vertical-align: top;\n",
       "    }\n",
       "\n",
       "    .dataframe thead th {\n",
       "        text-align: right;\n",
       "    }\n",
       "</style>\n",
       "<table border=\"1\" class=\"dataframe\">\n",
       "  <thead>\n",
       "    <tr style=\"text-align: right;\">\n",
       "      <th></th>\n",
       "      <th>Player Id</th>\n",
       "      <th>Tackles</th>\n",
       "      <th>wontackles</th>\n",
       "      <th>duels</th>\n",
       "      <th>wonduels</th>\n",
       "      <th>passes</th>\n",
       "      <th>wonpasses</th>\n",
       "      <th>interception</th>\n",
       "      <th>First_Name</th>\n",
       "      <th>Last_Name</th>\n",
       "      <th>Cluster_Label</th>\n",
       "    </tr>\n",
       "  </thead>\n",
       "  <tbody>\n",
       "    <tr>\n",
       "      <td>263</td>\n",
       "      <td>21091</td>\n",
       "      <td>100</td>\n",
       "      <td>0.730000</td>\n",
       "      <td>396</td>\n",
       "      <td>0.474747</td>\n",
       "      <td>2261</td>\n",
       "      <td>0.839894</td>\n",
       "      <td>66</td>\n",
       "      <td>Song</td>\n",
       "      <td>Alexandre</td>\n",
       "      <td>3</td>\n",
       "    </tr>\n",
       "    <tr>\n",
       "      <td>341</td>\n",
       "      <td>40555</td>\n",
       "      <td>110</td>\n",
       "      <td>0.745455</td>\n",
       "      <td>367</td>\n",
       "      <td>0.539510</td>\n",
       "      <td>2219</td>\n",
       "      <td>0.900406</td>\n",
       "      <td>74</td>\n",
       "      <td>Allen</td>\n",
       "      <td>Joe</td>\n",
       "      <td>3</td>\n",
       "    </tr>\n",
       "  </tbody>\n",
       "</table>\n",
       "</div>"
      ],
      "text/plain": [
       "     Player Id  Tackles  wontackles  duels  wonduels  passes  wonpasses  \\\n",
       "263      21091      100    0.730000    396  0.474747    2261   0.839894   \n",
       "341      40555      110    0.745455    367  0.539510    2219   0.900406   \n",
       "\n",
       "     interception First_Name  Last_Name  Cluster_Label  \n",
       "263            66       Song  Alexandre              3  \n",
       "341            74      Allen        Joe              3  "
      ]
     },
     "execution_count": 54,
     "metadata": {},
     "output_type": "execute_result"
    }
   ],
   "source": [
    "data[(data['Player Id']==40555) | (data['Player Id']==21091)]"
   ]
  },
  {
   "cell_type": "markdown",
   "metadata": {},
   "source": [
    "**From the above table we can see that both the players `Song` and `Allen Joe` have similar set of attributes**"
   ]
  }
 ],
 "metadata": {
  "kernelspec": {
   "display_name": "Python 3",
   "language": "python",
   "name": "python3"
  },
  "language_info": {
   "codemirror_mode": {
    "name": "ipython",
    "version": 3
   },
   "file_extension": ".py",
   "mimetype": "text/x-python",
   "name": "python",
   "nbconvert_exporter": "python",
   "pygments_lexer": "ipython3",
   "version": "3.7.4"
  }
 },
 "nbformat": 4,
 "nbformat_minor": 2
}
